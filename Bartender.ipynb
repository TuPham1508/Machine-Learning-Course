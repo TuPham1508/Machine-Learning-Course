{
 "cells": [
  {
   "cell_type": "code",
   "execution_count": 70,
   "metadata": {},
   "outputs": [],
   "source": [
    "from itertools import product\n",
    "from random import sample"
   ]
  },
  {
   "cell_type": "code",
   "execution_count": 71,
   "metadata": {},
   "outputs": [],
   "source": [
    "questions = {\n",
    " \"strong\": \"Do ye like yer drinks strong?\",\n",
    " \"salty\": \"Do ye like it with a salty tang?\",\n",
    " \"bitter\": \"Are ye a lubber who likes it bitter?\",\n",
    " \"sweet\": \"Would ye like a bit of sweetness with yer poison?\",\n",
    " \"fruity\": \"Are ye one for a fruity finish?\",\n",
    "}\n",
    "\n",
    "ingredients = {\n",
    " \"strong\": [\"glug of rum\", \"slug of whisky\", \"splash of gin\"],\n",
    " \"salty\": [\"olive on a stick\", \"salt-dusted rim\", \"rasher of bacon\"],\n",
    " \"bitter\": [\"shake of bitters\", \"splash of tonic\", \"twist of lemon peel\"],\n",
    " \"sweet\": [\"sugar cube\", \"spoonful of honey\", \"spash of cola\"],\n",
    " \"fruity\": [\"slice of orange\", \"dash of cassis\", \"cherry on top\"],\n",
    "}"
   ]
  },
  {
   "cell_type": "code",
   "execution_count": 72,
   "metadata": {},
   "outputs": [
    {
     "name": "stdout",
     "output_type": "stream",
     "text": [
      "Do ye like yer drinks strong? (y/n): y\n",
      "Do ye like it with a salty tang? (y/n): y\n",
      "Are ye a lubber who likes it bitter? (y/n): n\n",
      "Would ye like a bit of sweetness with yer poison? (y/n): y\n",
      "Are ye one for a fruity finish? (y/n): n\n"
     ]
    }
   ],
   "source": [
    "answers = []\n",
    "for key, values in questions.items():\n",
    "    a = input(values + \" (y/n): \")\n",
    "    if a == 'y':\n",
    "        answers.append(ingredients[key])"
   ]
  },
  {
   "cell_type": "code",
   "execution_count": 73,
   "metadata": {},
   "outputs": [
    {
     "data": {
      "text/plain": [
       "[['glug of rum', 'slug of whisky', 'splash of gin'],\n",
       " ['olive on a stick', 'salt-dusted rim', 'rasher of bacon'],\n",
       " ['sugar cube', 'spoonful of honey', 'spash of cola']]"
      ]
     },
     "execution_count": 73,
     "metadata": {},
     "output_type": "execute_result"
    }
   ],
   "source": [
    "print(answers)"
   ]
  },
  {
   "cell_type": "code",
   "execution_count": 74,
   "metadata": {},
   "outputs": [
    {
     "name": "stdout",
     "output_type": "stream",
     "text": [
      "[('glug of rum', 'olive on a stick', 'sugar cube'), ('glug of rum', 'olive on a stick', 'spoonful of honey'), ('glug of rum', 'olive on a stick', 'spash of cola'), ('glug of rum', 'salt-dusted rim', 'sugar cube'), ('glug of rum', 'salt-dusted rim', 'spoonful of honey'), ('glug of rum', 'salt-dusted rim', 'spash of cola'), ('glug of rum', 'rasher of bacon', 'sugar cube'), ('glug of rum', 'rasher of bacon', 'spoonful of honey'), ('glug of rum', 'rasher of bacon', 'spash of cola'), ('slug of whisky', 'olive on a stick', 'sugar cube'), ('slug of whisky', 'olive on a stick', 'spoonful of honey'), ('slug of whisky', 'olive on a stick', 'spash of cola'), ('slug of whisky', 'salt-dusted rim', 'sugar cube'), ('slug of whisky', 'salt-dusted rim', 'spoonful of honey'), ('slug of whisky', 'salt-dusted rim', 'spash of cola'), ('slug of whisky', 'rasher of bacon', 'sugar cube'), ('slug of whisky', 'rasher of bacon', 'spoonful of honey'), ('slug of whisky', 'rasher of bacon', 'spash of cola'), ('splash of gin', 'olive on a stick', 'sugar cube'), ('splash of gin', 'olive on a stick', 'spoonful of honey'), ('splash of gin', 'olive on a stick', 'spash of cola'), ('splash of gin', 'salt-dusted rim', 'sugar cube'), ('splash of gin', 'salt-dusted rim', 'spoonful of honey'), ('splash of gin', 'salt-dusted rim', 'spash of cola'), ('splash of gin', 'rasher of bacon', 'sugar cube'), ('splash of gin', 'rasher of bacon', 'spoonful of honey'), ('splash of gin', 'rasher of bacon', 'spash of cola')]\n"
     ]
    }
   ],
   "source": [
    "combine = list(product(*answers))\n",
    "print(combine)"
   ]
  },
  {
   "cell_type": "code",
   "execution_count": 80,
   "metadata": {},
   "outputs": [
    {
     "name": "stdout",
     "output_type": "stream",
     "text": [
      "this is your mixed drink: splash of gin, salt-dusted rim, spoonful of honey\n"
     ]
    }
   ],
   "source": [
    "result = sample(combine, 1)\n",
    "print('this is your mixed drink' ': ' + ', '.join(list(result[0])))"
   ]
  },
  {
   "cell_type": "code",
   "execution_count": null,
   "metadata": {},
   "outputs": [],
   "source": []
  }
 ],
 "metadata": {
  "kernelspec": {
   "display_name": "Python 3",
   "language": "python",
   "name": "python3"
  },
  "language_info": {
   "codemirror_mode": {
    "name": "ipython",
    "version": 3
   },
   "file_extension": ".py",
   "mimetype": "text/x-python",
   "name": "python",
   "nbconvert_exporter": "python",
   "pygments_lexer": "ipython3",
   "version": "3.8.3"
  }
 },
 "nbformat": 4,
 "nbformat_minor": 4
}
